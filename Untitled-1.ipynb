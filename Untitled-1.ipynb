{
 "cells": [
  {
   "cell_type": "code",
   "execution_count": 31,
   "metadata": {},
   "outputs": [],
   "source": [
    "from matplotlib import pyplot as plt\n",
    "import numpy as np\n",
    "import math"
   ]
  },
  {
   "cell_type": "code",
   "execution_count": 32,
   "metadata": {},
   "outputs": [],
   "source": [
    "def data_iter(batch_size, features, labels):\n",
    "    \"\"\"\n",
    "    随机返回一个 batch_size 的数据\n",
    "    \"\"\"\n",
    "    num_examples = features.shape[0]\n",
    "    indices = np.random.permutation(num_examples)\n",
    "    for i in range(0, num_examples, batch_size):\n",
    "        j = indices[i: min(i + batch_size, num_examples)]\n",
    "        yield features[j, :], labels[j, :]"
   ]
  },
  {
   "cell_type": "code",
   "execution_count": 35,
   "metadata": {},
   "outputs": [
    {
     "name": "stdout",
     "output_type": "stream",
     "text": [
      "tensor(100082.9219)\n"
     ]
    }
   ],
   "source": [
    "features = np.load(\"./data_input/features.npy\")\n",
    "labels = np.load(\"./data_input/labels.npy\")\n",
    "# for X, y in data_iter(batch_size=6, features=features, labels=labels):\n",
    "#     print(X.shape, \" \", y.shape)\n",
    "fea = torch.FloatTensor(features)\n",
    "lab = torch.FloatTensor(labels)\n",
    "l1 = torch.sum((fea[:, 5:17]-lab[:, :12])**2)\n",
    "l2 = torch.sum((lab[:, 17:]-lab[:, 12:])**2)\n",
    "loss = (l1 + 2*l2) / 50\n",
    "print(loss)"
   ]
  },
  {
   "cell_type": "code",
   "execution_count": null,
   "metadata": {},
   "outputs": [],
   "source": [
    "\n"
   ]
  },
  {
   "cell_type": "code",
   "execution_count": 4,
   "metadata": {},
   "outputs": [],
   "source": [
    "pred = np.array([[-1.7452880e-04,  4.0462299e-05],\n",
    " [ 4.1465878e+01, -7.6422989e-01],\n",
    " [ 5.1220867e+01, -9.1040987e-01],\n",
    " [ 8.4155411e+01, -5.1443273e-01],\n",
    " [ 9.8262611e+01,  2.3731294e-01],\n",
    " [ 1.1625407e+02,  1.0528432e-01],\n",
    " [ 1.2826181e+02,  1.1048744e-01],\n",
    " [ 1.3808379e+02,  3.0584157e-02],\n",
    " [ 1.4181372e+02, -1.5654421e-01]])\n",
    "label = np.array([[  0.,           0.        ],\n",
    " [ 42.89637543,  -0.45089155],\n",
    " [ 53.15558255,  -0.23595635],\n",
    " [ 84.99539717,   1.81720197],\n",
    " [ 99.55616763,   2.38275908],\n",
    " [118.31158052,   2.46377694],\n",
    " [130.39713256,   2.07873408],\n",
    " [140.35288188,   2.28622484],\n",
    " [143.872,        2.18      ]])"
   ]
  },
  {
   "cell_type": "code",
   "execution_count": 5,
   "metadata": {},
   "outputs": [
    {
     "data": {
      "text/plain": [
       "3.1623846218547893"
      ]
     },
     "execution_count": 5,
     "metadata": {},
     "output_type": "execute_result"
    }
   ],
   "source": [
    "np.sum((pred-label)**2)/18"
   ]
  },
  {
   "cell_type": "code",
   "execution_count": 6,
   "metadata": {},
   "outputs": [
    {
     "name": "stdout",
     "output_type": "stream",
     "text": [
      "26.346559201354683   30.576363992031517 sum is:  56.9229231933862\n"
     ]
    }
   ],
   "source": [
    "x_loss = np.sum((pred[:, 0]-label[:, 0])**2)\n",
    "y_loss = np.sum((pred[:, 1]-label[:, 1])**2)\n",
    "print(x_loss, \" \", y_loss, \"sum is: \", x_loss+y_loss)"
   ]
  },
  {
   "cell_type": "code",
   "execution_count": 120,
   "metadata": {},
   "outputs": [],
   "source": [
    "class ReducePoint(object):\n",
    "    def __init__(self, pointNum):\n",
    "        self.pointNum = pointNum\n",
    "        self.len = None\n",
    "\n",
    "    def getLen(self, tra):\n",
    "        \"\"\" 根据轨迹tra长度和需要返回的点的个数pointNum确定len的值 \"\"\"\n",
    "        # len:dif 这里的 5 和 20 是预设的，后面还要删除\n",
    "        mydic = np.array([5, 20]).reshape(1, -1)\n",
    "        for len in np.arange(start=2, stop=8, step=0.2):\n",
    "            saveList = self.uniformization(tra=tra, len=len, show=False)\n",
    "            dif = np.abs(self.pointNum - saveList.shape[0])\n",
    "            if dif == 0:\n",
    "                self.len = len\n",
    "                break\n",
    "            temp = np.array([len, dif]).reshape(1, -1)\n",
    "            mydic = np.vstack([mydic, temp])\n",
    "        if not self.len:\n",
    "            # 删除最上面手动添加的元素\n",
    "            mydic = np.delete(mydic, 0, axis=0)\n",
    "            # 找到 dif 最小的 index\n",
    "            minIndex = np.argmin(mydic[:, 1], axis=0)\n",
    "            # 根据 index 取 len 的值\n",
    "            self.len = mydic[minIndex, 0]\n",
    "        return self.len\n",
    "\n",
    "    def uniformization(self, tra, len, show=False):\n",
    "        \"\"\"\n",
    "        把密度不均匀的轨迹点均匀化（两点之间距离相近）\n",
    "        tra: 轨迹点. shape: (N, 2|4)\n",
    "        len: 相两点之间的距离\n",
    "        \"\"\"\n",
    "        n = tra.shape[0]\n",
    "        i = 0\n",
    "        saveList = []\n",
    "        saveList.append(tra[i, :])  # 添加第一个点\n",
    "        for j in range(1, n):\n",
    "            # (x1-x2)**2 + (y1-y2)**2\n",
    "            dis = math.sqrt((tra[i, 0]-tra[j, 0])**2 + (tra[i, 1]-tra[j, 1])**2)\n",
    "            if dis > len:\n",
    "                saveList.append(tra[j, :])\n",
    "                i = j\n",
    "        saveList = np.array(saveList)\n",
    "        # print(\"saveList len: \", saveList.shape)\n",
    "        if show:\n",
    "            plt.scatter(saveList[:, 0], saveList[:, 1])\n",
    "            plt.show()\n",
    "        return saveList"
   ]
  },
  {
   "cell_type": "code",
   "execution_count": 159,
   "metadata": {},
   "outputs": [
    {
     "name": "stdout",
     "output_type": "stream",
     "text": [
      "(84, 2)\n",
      "(31, 2)\n",
      "(55, 2)\n"
     ]
    }
   ],
   "source": [
    "# 查看不同车道 boundary 和 轨迹的长度\n",
    "boundary_1 = np.load(\"./data/junction/boundary.npy\")\n",
    "print(boundary_1.shape)\n",
    "boundary_2 = np.load(\"./data2/junction/boundary.npy\")\n",
    "print(boundary_2.shape)\n",
    "boundary_3 = np.load(\"./data3/junction/boundary.npy\")\n",
    "print(boundary_3.shape)"
   ]
  },
  {
   "cell_type": "code",
   "execution_count": 122,
   "metadata": {},
   "outputs": [
    {
     "name": "stdout",
     "output_type": "stream",
     "text": [
      "2.2\n",
      "21\n"
     ]
    }
   ],
   "source": [
    "rp = ReducePoint(pointNum=20)\n",
    "lens = rp.getLen(tra=boundary_3)\n",
    "print(lens)\n",
    "saveList = rp.uniformization(tra=boundary_3, len=lens, show=False)\n",
    "print(saveList.shape[0])"
   ]
  },
  {
   "cell_type": "code",
   "execution_count": 67,
   "metadata": {},
   "outputs": [
    {
     "data": {
      "text/plain": [
       "array([[0, 1],\n",
       "       [2, 3],\n",
       "       [4, 5],\n",
       "       [6, 7],\n",
       "       [8, 9]])"
      ]
     },
     "execution_count": 67,
     "metadata": {},
     "output_type": "execute_result"
    }
   ],
   "source": [
    "aa = np.arange(10).reshape(5, 2)\n",
    "aa"
   ]
  },
  {
   "cell_type": "code",
   "execution_count": 29,
   "metadata": {},
   "outputs": [],
   "source": [
    "import numpy as np\n",
    "import torch\n",
    "import torch.nn as nn\n",
    "import torch.nn.functional as F\n",
    "\n",
    "class BCNet(nn.Module):\n",
    "    def __init__(self, input_size, output_size):\n",
    "        super(BCNet, self).__init__()\n",
    "        self.layer1 = nn.Linear(input_size, 128)\n",
    "        self.layer1.weight.data.normal_(0, 1)\n",
    "        self.layer2 = nn.Linear(128, 64)\n",
    "        self.layer2.weight.data.normal_(0, 1)\n",
    "        self.layer_out = nn.Linear(64, output_size)\n",
    "        self.layer_out.weight.data.normal_(0, 1)\n",
    "\n",
    "    def forward(self, input):\n",
    "        x = F.relu(self.layer1(input))\n",
    "        x = F.relu(self.layer2(x))\n",
    "        x = self.layer_out(x)\n",
    "        return x\n",
    "\n",
    "model = BCNet(23, 18)\n",
    "model.load_state_dict(torch.load('./model/2204_072036/episodes_999.pth'))\n",
    "features = np.load(\"./data_input/features_aug.npy\")\n",
    "labels = np.load(\"./data_input/labels_aug.npy\")"
   ]
  },
  {
   "cell_type": "code",
   "execution_count": 30,
   "metadata": {},
   "outputs": [
    {
     "name": "stdout",
     "output_type": "stream",
     "text": [
      "loss is:  tensor(25.5134, grad_fn=<SumBackward0>)\n",
      "25.513374619185925\n"
     ]
    }
   ],
   "source": [
    "# 观察每一批数据的损失\n",
    "\n",
    "num_examples = features.shape[0]\n",
    "indices = np.random.permutation(num_examples)\n",
    "j = indices[0: 64]\n",
    "fea = torch.FloatTensor(features[j, :])\n",
    "lab = torch.FloatTensor(labels[j, :])\n",
    "pred = model(fea)\n",
    "loss = torch.sum((pred-lab)**2 / 64)\n",
    "print(\"loss is: \", loss)\n",
    "\n",
    "lost_list = []\n",
    "for i in range(64):\n",
    "    loss_one = torch.sum((pred[i, :] - lab[i, :])**2)\n",
    "    lost_list.append(loss_one.detach().numpy().tolist())\n",
    "# print(lost_list)\n",
    "print(np.sum(lost_list) / 64)"
   ]
  },
  {
   "cell_type": "code",
   "execution_count": 161,
   "metadata": {},
   "outputs": [],
   "source": [
    "def rotationTra(tra, point, angle, direc):\n",
    "    \"\"\" 输入一条轨迹，返回按 point 逆时针旋转 angle 角度后的轨迹 \"\"\"\n",
    "    newTra = np.zeros_like(tra)\n",
    "    x0, y0 = point[0], point[1]\n",
    "    if direc == 0:      # 顺时针\n",
    "        newTra[:, 0] = (tra[:, 0]-x0)*np.cos(angle) + (tra[:, 1]-y0)*np.sin(angle) + x0\n",
    "        newTra[:, 1] = (tra[:, 1]-y0)*np.cos(angle) - (tra[:, 0]-x0)*np.sin(angle) + y0\n",
    "    else:               # 逆时针\n",
    "        newTra[:, 0] = (tra[:, 0]-x0)*np.cos(angle) - (tra[:, 1]-y0)*np.sin(angle) + x0\n",
    "        newTra[:, 1] = (tra[:, 0]-x0)*np.sin(angle) + (tra[:, 1]-y0)*np.cos(angle) + y0\n",
    "    return newTra"
   ]
  },
  {
   "cell_type": "code",
   "execution_count": 165,
   "metadata": {},
   "outputs": [
    {
     "data": {
      "image/png": "[encoded data removed]",
      "text/plain": [
       "<Figure size 432x288 with 1 Axes>"
      ]
     },
     "metadata": {
      "needs_background": "light"
     },
     "output_type": "display_data"
    }
   ],
   "source": [
    "plt.plot(boundary_1[:, 0], boundary_1[:, 1])\n",
    "b1 = rotationTra(boundary_1, point=boundary_1[0, :2], angle=np.pi/10, direc=0)\n",
    "plt.plot(b1[:, 0], b1[:, 1], color='r')\n",
    "b2 = rotationTra(b1, point=b1[0, :2], angle=np.pi/10, direc=1)\n",
    "plt.plot(b2[:, 0], b2[:, 1], color='r')\n",
    "plt.show()"
   ]
  },
  {
   "cell_type": "code",
   "execution_count": 10,
   "metadata": {},
   "outputs": [
    {
     "data": {
      "text/plain": [
       "(1, 2)"
      ]
     },
     "execution_count": 10,
     "metadata": {},
     "output_type": "execute_result"
    }
   ],
   "source": [
    "arr = np.arange(16).reshape(8, 2)\n",
    "end = arr[-1, :].reshape(1, 2)\n",
    "end.shape"
   ]
  },
  {
   "cell_type": "code",
   "execution_count": 25,
   "metadata": {},
   "outputs": [],
   "source": [
    "class Reduce(object):\n",
    "    def __init__(self, pointNum, low=1., high=10.):\n",
    "        self.pointNum = pointNum\n",
    "        self.low = low\n",
    "        self.high = high\n",
    "        self.dis = None\n",
    "        self.saveList = None\n",
    "\n",
    "    def getReducePoint(self, tra):\n",
    "        l, r = self.low, self.high\n",
    "        while l < r:\n",
    "            mid = l + (r-l)/2.\n",
    "            saveList = self.uniformization(tra=tra, dis=mid)\n",
    "            if saveList.shape[0] == self.pointNum:\n",
    "                self.dis = mid\n",
    "                self.saveList = saveList\n",
    "                break;  \n",
    "            elif saveList.shape[0] > self.pointNum:\n",
    "                # 间隔太近了，需要增加间隔\n",
    "                l = mid\n",
    "            else: r = mid\n",
    "        return self.saveList\n",
    "    \n",
    "    def uniformization(self, tra, dis, show=False):\n",
    "        \"\"\"\n",
    "        把密度不均匀的轨迹点均匀化（两点之间距离相近）\n",
    "        tra: 轨迹点. shape: (N, 2|4)\n",
    "        dis: 相两点之间的距离\n",
    "        \"\"\"\n",
    "        n = tra.shape[0]\n",
    "        i = 0\n",
    "        saveList = []\n",
    "        saveList.append(tra[i, :])  # 添加第一个点\n",
    "        for j in range(1, n):\n",
    "            # (x1-x2)**2 + (y1-y2)**2\n",
    "            interval = math.sqrt((tra[i, 0]-tra[j, 0])**2 + (tra[i, 1]-tra[j, 1])**2)\n",
    "            if interval > dis:\n",
    "                saveList.append(tra[j, :])\n",
    "                i = j\n",
    "        saveList = np.array(saveList)\n",
    "        if show:\n",
    "            plt.scatter(saveList[:, 0], saveList[:, 1])\n",
    "            plt.show()\n",
    "        return saveList"
   ]
  },
  {
   "cell_type": "code",
   "execution_count": 26,
   "metadata": {},
   "outputs": [
    {
     "name": "stdout",
     "output_type": "stream",
     "text": [
      "(84, 2)\n",
      "(31, 2)\n",
      "(55, 2)\n"
     ]
    }
   ],
   "source": [
    "boundary_1 = np.load(\"./data/data_0/junction/boundary.npy\")\n",
    "print(boundary_1.shape)\n",
    "boundary_2 = np.load(\"./data/data_2/junction/boundary.npy\")\n",
    "print(boundary_2.shape)\n",
    "re = Reduce(pointNum=20)\n",
    "save = re.getReducePoint(tra=boundary_1)\n",
    "print(save.shape)"
   ]
  },
  {
   "cell_type": "code",
   "execution_count": null,
   "metadata": {},
   "outputs": [],
   "source": []
  }
 ],
 "metadata": {
  "interpreter": {
   "hash": "3db715b8bcc8969c31ee4d940f8dc03c83ac397461545dbc133431ce6c13391b"
  },
  "kernelspec": {
   "display_name": "Python 3.8.10 64-bit ('rl': venv)",
   "language": "python",
   "name": "python3"
  },
  "language_info": {
   "codemirror_mode": {
    "name": "ipython",
    "version": 3
   },
   "file_extension": ".py",
   "mimetype": "text/x-python",
   "name": "python",
   "nbconvert_exporter": "python",
   "pygments_lexer": "ipython3",
   "version": "3.8.10"
  },
  "orig_nbformat": 4
 },
 "nbformat": 4,
 "nbformat_minor": 2
}
